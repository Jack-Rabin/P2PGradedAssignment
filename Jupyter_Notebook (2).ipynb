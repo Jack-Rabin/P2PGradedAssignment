{
 "cells": [
  {
   "cell_type": "markdown",
   "metadata": {},
   "source": [
    "<center>\n",
    "    <img src=\"https://cf-courses-data.s3.us.cloud-object-storage.appdomain.cloud/IBMDeveloperSkillsNetwork-DS0105EN-SkillsNetwork/labs/Module2/images/SN_web_lightmode.png\" width=\"300\" alt=\"cognitiveclass.ai logo\">\n",
    "</center>\n"
   ]
  },
  {
   "cell_type": "markdown",
   "metadata": {},
   "source": [
    "#### Add your code below following the instructions given in the course\n"
   ]
  },
  {
   "cell_type": "markdown",
   "metadata": {},
   "source": [
    "# My Jupyter Notebook on IBM Skills Network Lab"
   ]
  },
  {
   "cell_type": "markdown",
   "metadata": {},
   "source": [
    "__My name is Rabin Jack__\n",
    "My desired career is to be a Sustainability Analyst employing Data Science skills to facilitate my growth."
   ]
  },
  {
   "cell_type": "markdown",
   "metadata": {},
   "source": [
    "*My interest in Data Science is firstly, i think sitting behind a computer and working on software looks really futuristic and cool. But honestly, I am interested in Data Science because I would like to use the skills gained to help bring about transparency and credibility to the sustainability sector as its severely lacking in that department* "
   ]
  },
  {
   "cell_type": "markdown",
   "metadata": {},
   "source": [
    "### This simple python code shows the calendar of the specified month and year"
   ]
  },
  {
   "cell_type": "code",
   "execution_count": null,
   "metadata": {},
   "outputs": [],
   "source": [
    "import calendar\n",
    "year =int( input(\"Enter the year of the required calendar \"))\n",
    "month = int( input(\"Enter the month of the required calendar \"))\n",
    "print(calendar.month(year,month))"
   ]
  },
  {
   "cell_type": "code",
   "execution_count": null,
   "metadata": {},
   "outputs": [],
   "source": []
  },
  {
   "cell_type": "markdown",
   "metadata": {},
   "source": [
    "(https://linkedin.com/in/rabin-jack-1648a6139 \"Is this allowed?\")\n",
    "\n",
    "__The Ultimate Comparison__\n",
    "|Subject|HTML|Markdown\n",
    "|-------|-----|------\n",
    "|Syntax|Yes|No\n",
    "Readability|Yes|Yes\n",
    "Ease of use|No|Yes\n",
    "Flexibility|No?|Yes?\n",
    "\n",
    "This table is not meant to be a joke. I obviously prefer ~~HTML~~ _Markdown_, and no, it has nothing to do with my previous WebDev experience __sigh__.\n",
    "\n",
    "__A tale of two Rivals__\n",
    "1. Hey guys look, I have a number!\n",
    "2. Guys! look, I also have a number!\n",
    "* Hahaha, look at them, they have numbers\n",
    "3. Wait who is that guy?\n",
    "* It doesn't matter, I am obviously better than you guys!\n",
    "4. And so the rivalry continues!"
   ]
  },
  {
   "cell_type": "code",
   "execution_count": null,
   "metadata": {},
   "outputs": [],
   "source": []
  }
 ],
 "metadata": {
  "kernelspec": {
   "display_name": "Python",
   "language": "python",
   "name": "conda-env-python-py"
  },
  "language_info": {
   "codemirror_mode": {
    "name": "ipython",
    "version": 3
   },
   "file_extension": ".py",
   "mimetype": "text/x-python",
   "name": "python",
   "nbconvert_exporter": "python",
   "pygments_lexer": "ipython3",
   "version": "3.7.12"
  }
 },
 "nbformat": 4,
 "nbformat_minor": 4
}
